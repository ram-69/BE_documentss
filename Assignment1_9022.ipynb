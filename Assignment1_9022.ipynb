{
  "nbformat": 4,
  "nbformat_minor": 0,
  "metadata": {
    "colab": {
      "provenance": [],
      "collapsed_sections": []
    },
    "kernelspec": {
      "name": "python3",
      "display_name": "Python 3"
    },
    "language_info": {
      "name": "python"
    }
  },
  "cells": [
    {
      "cell_type": "markdown",
      "source": [
        "Assignment-1\n",
        "\n",
        "*   Nikhil Vinod Khodake\n",
        "*   9022\n",
        "*   BE COMPUTER\n"
      ],
      "metadata": {
        "id": "WFnQGIa0qByD"
      }
    },
    {
      "cell_type": "code",
      "source": [
        "# A Huffman Tree Node\n",
        "import heapq\n",
        "\n",
        "class node:\n",
        "\tdef __init__(self, freq, symbol, left=None, right=None):\n",
        "\t\tself.freq = freq\n",
        "\t\tself.symbol = symbol\n",
        "\t\tself.left = left\n",
        "\t\tself.right = right\n",
        "\t\tself.huff = ''\n",
        "\t\t\n",
        "\tdef __lt__(self, nxt):\n",
        "\t\treturn self.freq < nxt.freq\n",
        "\t\t\n",
        "def printNodes(node, val=''):\n",
        "\t\n",
        "\t# huffman code for current node\n",
        "\tnewVal = val + str(node.huff)\n",
        "\n",
        "\t# if node is not an edge node\n",
        "\t# then traverse inside it\n",
        "\tif(node.left):\n",
        "\t\tprintNodes(node.left, newVal)\n",
        "\tif(node.right):\n",
        "\t\tprintNodes(node.right, newVal)\n",
        "\n",
        "\t\t# if node is edge node then\n",
        "\t\t# display its huffman code\n",
        "\tif(not node.left and not node.right):\n",
        "\t\tprint(f\"{node.symbol} -> {newVal}\")\n",
        "\n",
        "\n",
        "# characters for huffman tree\n",
        "chars = ['N', 'I', 'K', 'S', 'H', 'L']\n",
        "\n",
        "# frequency of characters\n",
        "freq = [ 5, 9, 12, 13, 16, 45]\n",
        "\n",
        "# list containing unused nodes\n",
        "nodes = []\n",
        "\n",
        "# converting characters and frequencies\n",
        "# into huffman tree nodes\n",
        "for x in range(len(chars)):\n",
        "\theapq.heappush(nodes, node(freq[x], chars[x]))\n",
        "\n",
        "while len(nodes) > 1:\n",
        "\t\n",
        "\t# sort all the nodes in ascending order\n",
        "\t# based on their frequency\n",
        "\tleft = heapq.heappop(nodes)\n",
        "\tright = heapq.heappop(nodes)\n",
        "\n",
        "\t# assign directional value to these nodes\n",
        "\tleft.huff = 0\n",
        "\tright.huff = 1\n",
        "\n",
        "\t# combine the 2 smallest nodes to create\n",
        "\t# new node as their parent\n",
        "\tnewNode = node(left.freq+right.freq, left.symbol+right.symbol, left, right)\n",
        "\n",
        "\theapq.heappush(nodes, newNode)\n",
        "\n",
        "# Huffman Tree is ready!\n",
        "printNodes(nodes[0])\n"
      ],
      "metadata": {
        "colab": {
          "base_uri": "https://localhost:8080/"
        },
        "id": "0WdS1C8LqOSD",
        "outputId": "14c00d45-71b1-4de3-a1c3-4ec72aa86dac"
      },
      "execution_count": 2,
      "outputs": [
        {
          "output_type": "stream",
          "name": "stdout",
          "text": [
            "L -> 0\n",
            "K -> 100\n",
            "S -> 101\n",
            "N -> 1100\n",
            "I -> 1101\n",
            "H -> 111\n"
          ]
        }
      ]
    }
  ]
}